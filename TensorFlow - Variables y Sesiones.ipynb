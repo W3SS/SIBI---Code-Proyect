{
 "cells": [
  {
   "cell_type": "markdown",
   "metadata": {},
   "source": [
    "# -*- coding: utf-8 -*-\n",
    "\"\"\"\n",
    "Created on Mon Jan  1 23:24:34 2018\n",
    "\n",
    "@author: ASUS\n",
    "\"\"\"\n",
    "\n",
    "# -*- coding: utf-8 -*-\n",
    "\n",
    "'''\n",
    "    \n",
    "    TensorFlow: Variables y sesiones.\n",
    "    \n",
    "        - Variables.\n",
    "        - Grafica comutacional.\n",
    "        - Sesiones.\n",
    "    \n",
    "'''"
   ]
  },
  {
   "cell_type": "code",
   "execution_count": 1,
   "metadata": {
    "collapsed": true
   },
   "outputs": [],
   "source": [
    "import tensorflow as tf"
   ]
  },
  {
   "cell_type": "code",
   "execution_count": null,
   "metadata": {
    "collapsed": true
   },
   "outputs": [],
   "source": [
    "'''\n",
    "1 - Constante: Constante que no va a cambiar su valor en todo el flujo del programa.\n",
    "    \n",
    "    * Primer Argumento: Definimos el valor que queremos que tome la constante. En este caso\n",
    "                        un vector con tres elementos.\n",
    "                        \n",
    "    * Segundo Argumento: Decimos que tipo de dato es. En este caso hemos definido un float32.\n",
    "                         Mas concretamente un vector de decimales.\n",
    "                        \n",
    "    * Tercer Argumento: El nombre que queremos darle a la variable. En este caso 'Constante1'.\n",
    "    NOTA: Con esta sentencia solo estamos definiendo la \"grÃ¡fica computacional\". Es decir, al ejecutar\n",
    "          la siguiente instrucciÃ³n, todavÃ­a no tendrÃ¡ los valores definidos. Por eso, si utilizaramos la \n",
    "          instrcucion print(constante) el resultado que nos devolverÃ­a serÃ­a este:\n",
    "              Tensor(\"Constante1_1:0\", shape=(3,), dtype=float32)\n",
    "'''"
   ]
  },
  {
   "cell_type": "code",
   "execution_count": null,
   "metadata": {
    "collapsed": true
   },
   "outputs": [],
   "source": [
    "constante =tf.constant([1.1,3,4],dtype=tf.float32, name= 'Constante1')\n",
    "print(constante)"
   ]
  },
  {
   "cell_type": "code",
   "execution_count": null,
   "metadata": {
    "collapsed": true
   },
   "outputs": [],
   "source": [
    "'''\n",
    "2 - Placeholder - Se define asÃ­ a un tipo de variables simbÃ³licas. Que al principio, en la ejecuciÃ³n del\n",
    "                  programa estarÃ¡n vacÃ­as y posteriormente se irÃ¡n \"llenando\" conforme se vaya ejecutando\n",
    "                  el cÃ³digo. Normalmente serÃ¡n usados para nuestros inputs de data.\n",
    "                  \n",
    "    * Primer Argumento (dtype) : Definimos tipo de valor que queremos que tome el placeholder. En este\n",
    "                                 en esta caso float32.\n",
    "                                 \n",
    "                        \n",
    "    * Segundo Argumento (shape) : Decidimos la forma que queremos que tome el placeholder. Es opcional. Si no\n",
    "                                  estÃ¡ especificado, puede ser alimnetado un tensor de cualquier forma. \n",
    "                                  En este caso una matriz de 2 filas y 3 columnas.\n",
    "                        \n",
    "    * Tercer Argumento (name) : El nombre que queremos darle al placeholder. En este caso 'apartado1'.\n",
    "    NOTA: Al igual que con la constante anterior, solamente hemos definido la \"grÃ¡fica computacional\", si\n",
    "          intentÃ¡semos imprimir por pantalla con la variable 'apartado' con ayuda de la funciÃ³n print(apartado), el\n",
    "          resultado que obtendrÃ­amos serÃ­a este: \n",
    "    \n",
    "              Tensor(\"Apartado1_1:0\", dtype=float32)\n",
    "'''"
   ]
  },
  {
   "cell_type": "code",
   "execution_count": null,
   "metadata": {
    "collapsed": true
   },
   "outputs": [],
   "source": [
    "apartado = tf.placeholder(tf.float32,shape=(2,3),name='Apartado1')\n",
    "print(apartado)  "
   ]
  },
  {
   "cell_type": "code",
   "execution_count": null,
   "metadata": {
    "collapsed": true
   },
   "outputs": [],
   "source": [
    "'''\n",
    "3 - Variable: Es un tipo dato el cual podrÃ¡ cambiar su valor a lo largo de la ejecuciÃ³n del programa. Es muy \n",
    "              parecida a la variable constante, con la Ãºnica diferencia que esta Ãºltima no puede cambiar su\n",
    "              valor a lo largo de la ejecuciÃ³n del programa. En el tipo de dato Variable si podremos cambiar \n",
    "              su valor durante la ejecuiÃ³n del programa. Aunque se le pueden asignar varios argumentos a la \n",
    "              hora de crear una varialbe, los mÃ¡s importantes son estos:\n",
    "              \n",
    "                  \n",
    "     * Primer Argumento (valor) : Definimos el valor que queramos que tenga la variable. En este caso 3.\n",
    "                     \n",
    "            \n",
    "     * Segundo Argumento (dtype) : Definimos el tipo de dato que queremos que tenga. En este caso float32\n",
    "            \n",
    "     * Tercer Argumento (name) : El nombre que queremos darle a la variable. En este caso 'variable1'.\n",
    "              \n",
    "     NOTA: Al igual que con el placeholder anterior, solamente hemos definido la \"grÃ¡fica computacional\", si\n",
    "              intentÃ¡semos imprimir por pantalla con la variable 'variable' con ayuda de la funciÃ³n print(variable), el\n",
    "              resultado que obtendrÃ­amos serÃ­a este: \n",
    "                  \n",
    "                  <tf.Variable 'variable1:0' shape=() dtype=float32_ref>\n",
    "              \n",
    "'''                 "
   ]
  },
  {
   "cell_type": "code",
   "execution_count": null,
   "metadata": {
    "collapsed": true
   },
   "outputs": [],
   "source": [
    "variable = tf.Variable(3, dtype=tf.float32, name='variable1')\n",
    "print(variable)      "
   ]
  },
  {
   "cell_type": "code",
   "execution_count": null,
   "metadata": {
    "collapsed": true
   },
   "outputs": [],
   "source": [
    "'''\n",
    "3 - Matriz de Zeros: Es una matriz de ceros que se usarÃ¡ para inicializar muchas veces para implementar \n",
    "                     al inicio una red neuronal. Al definir el modelo de la red.\n",
    "                     \n",
    "     * Primer Argumento (shape): Es la forma que queremos que tenga la matriz. En este caso una matriz\n",
    "                                 de 3 filas y tres columnas.\n",
    "     * Segundo Argumento (dtype): El tipo de dato que queremos que tenga la matriz.En este caso hemos\n",
    "                                  decidido que tenga un float32.\n",
    "     * Tercer Argumento (name): El nombre que queremos darle a la variable. En este caso 'matriz'.\n",
    "     \n",
    "     NOTA: Al igual que con el placeholder anterior, solamente hemos definido la \"grÃ¡fica computacional\", si\n",
    "              intentÃ¡semos imprimir por pantalla con la variable 'variable' con ayuda de la funciÃ³n print(variable), el\n",
    "              resultado que obtendrÃ­amos serÃ­a este: \n",
    "                  \n",
    "                  Tensor(\"matriz_2:0\", shape=(3, 4), dtype=float32)\n",
    "'''       "
   ]
  },
  {
   "cell_type": "code",
   "execution_count": null,
   "metadata": {
    "collapsed": true
   },
   "outputs": [],
   "source": [
    "matriz = tf.zeros([3,4],dtype=tf.float32,name='matriz')\n",
    "print(matriz)"
   ]
  },
  {
   "cell_type": "code",
   "execution_count": null,
   "metadata": {
    "collapsed": true
   },
   "outputs": [],
   "source": [
    "'''\n",
    "    GrÃ¡fica computacional: Se podrÃ­a decir que son como los planos de nuestro cÃ³digo. Esto es debido a que\n",
    "                           la forma de trabajar de TensorFlow, es un poco diferente al del resto del lenguajes.\n",
    "                           En este caso, aunque estamos trabajando con el lenguaje Python. Se podrÃ­a decir que\n",
    "                           la forma con la que se operan y realizan las operaciones son un poco especiales.\n",
    "                           \n",
    "                           Por eso la forma de trabajar de TensorFlow es espcificar primero todo el problema, y al\n",
    "                           final crear una sesiÃ³n (cÃ³mo se verÃ¡ a continuaciÃ³n). Para finalemente, ejecutar la\n",
    "                           computaciÃ³n asociada a las instrucciones.\n",
    "'''\n",
    "\n",
    "'''\n",
    "    Sesiones - Para poder ejecutar la grÃ¡fica computacinal anteriormente especificada, tendremos que\n",
    "               utilizar las sesiones.\n",
    "               \n",
    "               Para ello lo primero que se ha de hacer es inicializar todas las variables. A travÃ©s de la\n",
    "               instrucion: \n",
    "               \n",
    "                   inicializar = tf.global_variables_initializer()\n",
    "               \n",
    "               A continuaciÃ³n se le asigna a una variable una sesion, este puede ser un ejemplo:\n",
    "                   \n",
    "                   sess = tf.Session()\n",
    "               \n",
    "               Y para que finalmente la grÃ¡cfica computacional corra, ejecutamos:\n",
    "                   \n",
    "                   sess.run(inicializar)\n",
    "                   \n",
    "               Una vez ejecutado la instrucion anterior, la grÃ¡fica computacinal ya corriÃ³. Ahora, todas las\n",
    "               variables tienen un valor asignado.\n",
    "               \n",
    "            \n",
    "'''"
   ]
  },
  {
   "cell_type": "code",
   "execution_count": null,
   "metadata": {
    "collapsed": true
   },
   "outputs": [],
   "source": [
    "inicializar = tf.global_variables_initializer()\n",
    "\n",
    "sess = tf.Session()\n",
    "\n",
    "sess.run(inicializar)\n",
    "\n",
    "print(sess.run(constante))"
   ]
  },
  {
   "cell_type": "code",
   "execution_count": null,
   "metadata": {
    "collapsed": true
   },
   "outputs": [],
   "source": [
    "'''\n",
    "    Ejemplo de multiplicaciÃ³n de matrices (Recordando que para la multiplicaciÃ³n de matrices\n",
    "    de la forma (M,N)x(N,M), el resultado serÃ¡ de dimensiÃ³n (M,M)\n",
    "    \n",
    "'''"
   ]
  },
  {
   "cell_type": "code",
   "execution_count": null,
   "metadata": {
    "collapsed": true
   },
   "outputs": [],
   "source": [
    "a = tf.placeholder(tf.float32,shape=(2,2))\n",
    "b = tf.placeholder(tf.float32,shape=(2,3))\n",
    "mult = tf.matmul(a,b) #Operacion de la multiplicacion de las matrices a y b.\n",
    "init = tf.global_variables_initializer() #Instrucción que inicializa nuestras variables\n",
    "sess = tf.Session() #Para poder empezar a ejecutar nuestra gráfica computacinal.\n",
    "sess.run(init)"
   ]
  },
  {
   "cell_type": "code",
   "execution_count": null,
   "metadata": {
    "collapsed": true
   },
   "outputs": [],
   "source": [
    "'''\n",
    "Queremos que imprima por pantalla la variable 'mult' que es la ejecucion de la multiplicacion de matrices.\n",
    "Dado que las operaciones que queremos hacer sobre las matrices 'a' y 'b' son placesholders, no tinen asignados valores.\n",
    "Con la instruccion feed dict se alimentan dichos placesholders.\n",
    "'''"
   ]
  },
  {
   "cell_type": "code",
   "execution_count": null,
   "metadata": {
    "collapsed": true
   },
   "outputs": [],
   "source": [
    "print(\"RESULTADO MULT A & B: \",\"\\n\",sess.run(mult,feed_dict={ a:[[1,2],[2,2]], b:[[12,21,4],[3,2,4]]}))"
   ]
  },
  {
   "cell_type": "code",
   "execution_count": null,
   "metadata": {
    "collapsed": true
   },
   "outputs": [],
   "source": [
    "'''\n",
    "    Producto - Punto a punto de dos vectores.\n",
    "'''"
   ]
  },
  {
   "cell_type": "code",
   "execution_count": null,
   "metadata": {
    "collapsed": true
   },
   "outputs": [],
   "source": [
    "c = tf.placeholder(tf.float32, shape=(3))\n",
    "d = tf.placeholder(tf.float32, shape=(3))\n",
    "punto = tf.tensordot(c,d, 1)\n",
    "init = tf.global_variables_initializer()\n",
    "sess = tf.Session()\n",
    "sess.run(init)\n",
    "print(\"RESULTADO MULT C & D: \",sess.run(punto, feed_dict={c:[1,2,3],d:[3,2,1]}))\n"
   ]
  }
 ],
 "metadata": {
  "kernelspec": {
   "display_name": "Python 3",
   "language": "python",
   "name": "python3"
  },
  "language_info": {
   "codemirror_mode": {
    "name": "ipython",
    "version": 3
   },
   "file_extension": ".py",
   "mimetype": "text/x-python",
   "name": "python",
   "nbconvert_exporter": "python",
   "pygments_lexer": "ipython3",
   "version": "3.6.2"
  }
 },
 "nbformat": 4,
 "nbformat_minor": 2
}
